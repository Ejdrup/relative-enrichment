{
 "cells": [
  {
   "cell_type": "markdown",
   "id": "18bf5c51",
   "metadata": {},
   "source": [
    "## Vesicle simulation example"
   ]
  },
  {
   "cell_type": "code",
   "execution_count": null,
   "id": "b7f88e32",
   "metadata": {},
   "outputs": [],
   "source": [
    "import numpy as np\n",
    "import REp_function_v1_3 as REp"
   ]
  }
 ],
 "metadata": {
  "kernelspec": {
   "display_name": "Python 3",
   "language": "python",
   "name": "python3"
  },
  "language_info": {
   "codemirror_mode": {
    "name": "ipython",
    "version": 3
   },
   "file_extension": ".py",
   "mimetype": "text/x-python",
   "name": "python",
   "nbconvert_exporter": "python",
   "pygments_lexer": "ipython3",
   "version": "3.6.10"
  }
 },
 "nbformat": 4,
 "nbformat_minor": 5
}
